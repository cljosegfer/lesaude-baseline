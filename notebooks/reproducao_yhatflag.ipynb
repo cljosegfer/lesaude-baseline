{
 "cells": [
  {
   "cell_type": "markdown",
   "metadata": {},
   "source": [
    "# setup"
   ]
  },
  {
   "cell_type": "code",
   "execution_count": 1,
   "metadata": {},
   "outputs": [],
   "source": [
    "import os\n",
    "\n",
    "if os.getcwd().split('/')[-1] == 'notebooks':\n",
    "    os.chdir('..')"
   ]
  },
  {
   "cell_type": "code",
   "execution_count": 2,
   "metadata": {},
   "outputs": [],
   "source": [
    "import torch\n",
    "import torch.nn as nn\n",
    "\n",
    "from models.baseline import ResnetBaseline"
   ]
  },
  {
   "cell_type": "code",
   "execution_count": 3,
   "metadata": {},
   "outputs": [],
   "source": [
    "from runners.normal import Runner\n",
    "from dataloaders.code15 import CODE as DS\n",
    "from dataloaders.code15 import CODEsplit as DSsplit\n",
    "\n",
    "model_label = 'code15flagnormal'\n",
    "model = ResnetBaseline(n_classes = 1)"
   ]
  },
  {
   "cell_type": "markdown",
   "metadata": {},
   "source": [
    "# init"
   ]
  },
  {
   "cell_type": "code",
   "execution_count": 4,
   "metadata": {},
   "outputs": [],
   "source": [
    "database = DS(metadata_path = '/home/josegfer/datasets/code/output/metadata_normal.csv')\n",
    "model = torch.load('output/{}/{}.pt'.format(model_label, model_label))\n",
    "\n",
    "device = torch.device('cuda' if torch.cuda.is_available() else 'cpu')"
   ]
  },
  {
   "cell_type": "code",
   "execution_count": 5,
   "metadata": {},
   "outputs": [],
   "source": [
    "runner = Runner(device = device, model = model, database = database, split = DSsplit, model_label = model_label)"
   ]
  },
  {
   "cell_type": "markdown",
   "metadata": {},
   "source": [
    "# test"
   ]
  },
  {
   "cell_type": "code",
   "execution_count": 10,
   "metadata": {},
   "outputs": [],
   "source": [
    "import pandas as pd\n",
    "import h5py\n",
    "import numpy as np\n",
    "\n",
    "from torch.utils.data import Dataset\n",
    "\n",
    "class CODEtest(Dataset):\n",
    "    def __init__(self, hdf5_path = '/home/josegfer/datasets/code/data/codetest/data/ecg_tracings.hdf5', \n",
    "                 metadata_path = '/home/josegfer/datasets/code/data/codetest/data/annotations/gold_standard.csv',\n",
    "                 tracing_col = 'tracings', output_col = ['1dAVb', 'RBBB', 'LBBB', 'SB', 'AF', 'ST']):\n",
    "        self.hdf5_file = h5py.File(hdf5_path, 'r')\n",
    "        self.metadata = pd.read_csv(metadata_path)\n",
    "\n",
    "        self.tracing_col = tracing_col\n",
    "        self.output_col = output_col\n",
    "    \n",
    "    def __len__(self):\n",
    "        return len(self.metadata)\n",
    "    \n",
    "    def __getitem__(self, idx):\n",
    "        return {'x': self.hdf5_file[self.tracing_col][idx],\n",
    "                'y': ~np.sum(self.metadata[self.output_col].loc[idx].values, dtype = bool).reshape(-1),}"
   ]
  },
  {
   "cell_type": "code",
   "execution_count": 11,
   "metadata": {},
   "outputs": [],
   "source": [
    "from hparams import BATCH_SIZE, NUM_WORKERS"
   ]
  },
  {
   "cell_type": "code",
   "execution_count": 12,
   "metadata": {},
   "outputs": [],
   "source": [
    "tst_ds = CODEtest()\n",
    "val_dl = torch.utils.data.DataLoader(runner.val_ds, batch_size = BATCH_SIZE, \n",
    "                                     shuffle = False, num_workers = NUM_WORKERS)\n",
    "tst_dl = torch.utils.data.DataLoader(tst_ds, batch_size = BATCH_SIZE, \n",
    "                                     shuffle = False, num_workers = NUM_WORKERS)"
   ]
  },
  {
   "cell_type": "code",
   "execution_count": 13,
   "metadata": {},
   "outputs": [
    {
     "name": "stderr",
     "output_type": "stream",
     "text": [
      "100%|██████████| 97/97 [01:15<00:00,  1.28it/s]\n",
      "100%|██████████| 7/7 [00:03<00:00,  2.13it/s]\n"
     ]
    },
    {
     "data": {
      "text/plain": [
       "{'Accuracy': [0.8851269649334945, 0.8851269649334945],\n",
       " 'F1 Score': [0.9274255156608098, 0.7246376811594204],\n",
       " 'AUC ROC': [0.8737503268762699, 0.87375032687627]}"
      ]
     },
     "execution_count": 13,
     "metadata": {},
     "output_type": "execute_result"
    }
   ],
   "source": [
    "best_f1s, best_thresholds = runner._synthesis(val_dl, best_thresholds = None)\n",
    "all_binary_results, all_true_labels, metrics_dict = runner._synthesis(tst_dl, best_thresholds)\n",
    "metrics_dict"
   ]
  },
  {
   "cell_type": "markdown",
   "metadata": {},
   "source": [
    "# synthesis"
   ]
  },
  {
   "cell_type": "code",
   "execution_count": 38,
   "metadata": {},
   "outputs": [],
   "source": [
    "import matplotlib.pyplot as plt\n",
    "\n",
    "from tqdm import tqdm\n",
    "\n",
    "from utils import get_inputs, metrics_table"
   ]
  },
  {
   "cell_type": "code",
   "execution_count": 45,
   "metadata": {},
   "outputs": [],
   "source": [
    "def synthesis(runner, loader, best_thresholds):\n",
    "    all_binary_results = []\n",
    "    all_true_labels = []\n",
    "    all_logit_results = []\n",
    "\n",
    "    runner.model.eval()\n",
    "    with torch.no_grad():\n",
    "        for batch in tqdm(loader):\n",
    "            raw = batch['x']\n",
    "            label = batch['y']\n",
    "            ecg = get_inputs(raw, device = runner.device)\n",
    "            label = label.to(runner.device).float()\n",
    "\n",
    "            logits = runner.model(ecg)\n",
    "            probs = torch.sigmoid(logits)\n",
    "\n",
    "            binary_result = torch.zeros_like(probs)\n",
    "            for i in range(len(best_thresholds)):\n",
    "                binary_result[:, i] = (\n",
    "                    probs[:, i] >= best_thresholds[i]\n",
    "                ).float()\n",
    "            \n",
    "            all_binary_results.append(binary_result)\n",
    "            all_true_labels.append(label)\n",
    "            all_logit_results.append(probs)\n",
    "\n",
    "    all_binary_results = torch.cat(all_binary_results, dim=0).cpu()\n",
    "    all_true_labels = torch.cat(all_true_labels, dim=0).cpu()\n",
    "    all_logit_results = torch.cat(all_logit_results, dim=0).cpu()\n",
    "    return all_binary_results, all_true_labels, all_logit_results"
   ]
  },
  {
   "cell_type": "code",
   "execution_count": 14,
   "metadata": {},
   "outputs": [
    {
     "data": {
      "text/plain": [
       "[0.34]"
      ]
     },
     "execution_count": 14,
     "metadata": {},
     "output_type": "execute_result"
    }
   ],
   "source": [
    "best_thresholds"
   ]
  },
  {
   "cell_type": "code",
   "execution_count": 48,
   "metadata": {},
   "outputs": [],
   "source": [
    "# trn_dl = torch.utils.data.DataLoader(runner.trn_ds, batch_size = BATCH_SIZE, \n",
    "#                                      shuffle = False, num_workers = NUM_WORKERS)\n",
    "val_dl = torch.utils.data.DataLoader(runner.val_ds, batch_size = BATCH_SIZE, \n",
    "                                     shuffle = False, num_workers = NUM_WORKERS)\n",
    "tst_dl = torch.utils.data.DataLoader(runner.tst_ds, batch_size = BATCH_SIZE, \n",
    "                                     shuffle = False, num_workers = NUM_WORKERS)"
   ]
  },
  {
   "cell_type": "markdown",
   "metadata": {},
   "source": [
    "## test"
   ]
  },
  {
   "cell_type": "code",
   "execution_count": 49,
   "metadata": {},
   "outputs": [
    {
     "name": "stderr",
     "output_type": "stream",
     "text": [
      "100%|██████████| 94/94 [01:15<00:00,  1.24it/s]\n"
     ]
    },
    {
     "data": {
      "text/plain": [
       "{'Accuracy': [0.7780011728239926, 0.7780011728239926],\n",
       " 'F1 Score': [0.8541070248843866, 0.5359019264448337],\n",
       " 'AUC ROC': [0.6782453420552073, 0.6782453420552073]}"
      ]
     },
     "execution_count": 49,
     "metadata": {},
     "output_type": "execute_result"
    }
   ],
   "source": [
    "all_binary_results, all_true_labels, all_logit_results = synthesis(runner, tst_dl, best_thresholds)\n",
    "metrics_table(all_binary_results, all_true_labels)"
   ]
  },
  {
   "cell_type": "code",
   "execution_count": 50,
   "metadata": {},
   "outputs": [
    {
     "data": {
      "text/plain": [
       "(array([[1530.,  337.],\n",
       "        [2313., 7757.]]),\n",
       " array([[0.13, 0.03],\n",
       "        [0.19, 0.65]]))"
      ]
     },
     "execution_count": 50,
     "metadata": {},
     "output_type": "execute_result"
    }
   ],
   "source": [
    "confusion = np.zeros(shape = (2, 2))\n",
    "N = len(all_binary_results)\n",
    "\n",
    "for i in range(1 + 1):\n",
    "    for j in range(1 + 1):\n",
    "        confusion[i, j] = torch.sum((all_binary_results == i) * (all_true_labels == j))\n",
    "confusion, N, np.round(confusion / N, decimals = 2)"
   ]
  },
  {
   "cell_type": "code",
   "execution_count": null,
   "metadata": {},
   "outputs": [],
   "source": [
    "all_true_labels = all_true_labels.numpy().reshape(-1)\n",
    "all_logit_results = all_logit_results.numpy().reshape(-1)"
   ]
  },
  {
   "cell_type": "code",
   "execution_count": 84,
   "metadata": {},
   "outputs": [
    {
     "data": {
      "image/png": "[encoded data removed]",
      "text/plain": [
       "<Figure size 1200x400 with 2 Axes>"
      ]
     },
     "metadata": {},
     "output_type": "display_data"
    }
   ],
   "source": [
    "positivo = all_true_labels == 1\n",
    "negativo = all_true_labels == 0\n",
    "\n",
    "fig, axes = plt.subplots(1, 2, figsize = (12, 4))\n",
    "axes[0].hist(all_logit_results[positivo], color = 'tab:blue');\n",
    "axes[0].set_title('text flag positive');\n",
    "\n",
    "axes[1].hist(all_logit_results[negativo], color = 'tab:orange');\n",
    "axes[1].set_title('text flag negative');\n",
    "axes[1].set_xlim(axes[0].get_xlim());\n",
    "axes[1].set_ylim(axes[0].get_ylim());\n",
    "\n",
    "[axes[i].axvline(x = best_thresholds, color = 'black', linestyle = 'dashed') for i in range(2)];"
   ]
  },
  {
   "cell_type": "markdown",
   "metadata": {},
   "source": [
    "## val"
   ]
  },
  {
   "cell_type": "code",
   "execution_count": 85,
   "metadata": {},
   "outputs": [
    {
     "name": "stderr",
     "output_type": "stream",
     "text": [
      "100%|██████████| 97/97 [01:15<00:00,  1.28it/s]\n"
     ]
    },
    {
     "data": {
      "text/plain": [
       "{'Accuracy': [0.7783534364122076, 0.7783534364122076],\n",
       " 'F1 Score': [0.8542376490630323, 0.5376561972306653],\n",
       " 'AUC ROC': [0.6789255749099539, 0.6789255749099539]}"
      ]
     },
     "execution_count": 85,
     "metadata": {},
     "output_type": "execute_result"
    }
   ],
   "source": [
    "all_binary_results, all_true_labels, all_logit_results = synthesis(runner, val_dl, best_thresholds)\n",
    "metrics_table(all_binary_results, all_true_labels)"
   ]
  },
  {
   "cell_type": "code",
   "execution_count": 86,
   "metadata": {},
   "outputs": [
    {
     "data": {
      "text/plain": [
       "(array([[1592.,  377.],\n",
       "        [2361., 8023.]]),\n",
       " 12353,\n",
       " array([[0.13, 0.03],\n",
       "        [0.19, 0.65]]))"
      ]
     },
     "execution_count": 86,
     "metadata": {},
     "output_type": "execute_result"
    }
   ],
   "source": [
    "confusion = np.zeros(shape = (2, 2))\n",
    "N = len(all_binary_results)\n",
    "\n",
    "for i in range(1 + 1):\n",
    "    for j in range(1 + 1):\n",
    "        confusion[i, j] = torch.sum((all_binary_results == i) * (all_true_labels == j))\n",
    "confusion, N, np.round(confusion / N, decimals = 2)"
   ]
  },
  {
   "cell_type": "code",
   "execution_count": 87,
   "metadata": {},
   "outputs": [],
   "source": [
    "all_true_labels = all_true_labels.numpy().reshape(-1)\n",
    "all_logit_results = all_logit_results.numpy().reshape(-1)"
   ]
  },
  {
   "cell_type": "code",
   "execution_count": 88,
   "metadata": {},
   "outputs": [
    {
     "data": {
      "image/png": "[encoded data removed]",
      "text/plain": [
       "<Figure size 1200x400 with 2 Axes>"
      ]
     },
     "metadata": {},
     "output_type": "display_data"
    }
   ],
   "source": [
    "positivo = all_true_labels == 1\n",
    "negativo = all_true_labels == 0\n",
    "\n",
    "fig, axes = plt.subplots(1, 2, figsize = (12, 4))\n",
    "axes[0].hist(all_logit_results[positivo], color = 'tab:blue');\n",
    "axes[0].set_title('text flag positive');\n",
    "\n",
    "axes[1].hist(all_logit_results[negativo], color = 'tab:orange');\n",
    "axes[1].set_title('text flag negative');\n",
    "axes[1].set_xlim(axes[0].get_xlim());\n",
    "axes[1].set_ylim(axes[0].get_ylim());\n",
    "\n",
    "[axes[i].axvline(x = best_thresholds, color = 'black', linestyle = 'dashed') for i in range(2)];"
   ]
  }
 ],
 "metadata": {
  "kernelspec": {
   "display_name": "clip",
   "language": "python",
   "name": "python3"
  },
  "language_info": {
   "codemirror_mode": {
    "name": "ipython",
    "version": 3
   },
   "file_extension": ".py",
   "mimetype": "text/x-python",
   "name": "python",
   "nbconvert_exporter": "python",
   "pygments_lexer": "ipython3",
   "version": "3.8.8"
  }
 },
 "nbformat": 4,
 "nbformat_minor": 2
}
