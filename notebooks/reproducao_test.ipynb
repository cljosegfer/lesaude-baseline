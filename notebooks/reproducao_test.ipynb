{
 "cells": [
  {
   "cell_type": "markdown",
   "metadata": {},
   "source": [
    "# setup"
   ]
  },
  {
   "cell_type": "code",
   "execution_count": 1,
   "metadata": {},
   "outputs": [],
   "source": [
    "import os\n",
    "\n",
    "if os.getcwd().split('/')[-1] == 'notebooks':\n",
    "    os.chdir('..')"
   ]
  },
  {
   "cell_type": "code",
   "execution_count": 2,
   "metadata": {},
   "outputs": [],
   "source": [
    "import torch\n",
    "import torch.nn as nn\n",
    "\n",
    "from models.baseline import ResnetBaseline\n",
    "from hparams import BATCH_SIZE, NUM_WORKERS"
   ]
  },
  {
   "cell_type": "code",
   "execution_count": 3,
   "metadata": {},
   "outputs": [],
   "source": [
    "# model_label = 'code151davb'\n",
    "# from dataloaders.code15 import CODE as DS\n",
    "# from dataloaders.code15 import CODEsplit as DSsplit\n",
    "# from runners.solo import Runner\n",
    "# model = ResnetBaseline(n_classes = 1)\n",
    "# model = torch.load('output/{}/{}.pt'.format(model_label, model_label))\n",
    "\n",
    "# output_col = ['1dAVb']"
   ]
  },
  {
   "cell_type": "code",
   "execution_count": 4,
   "metadata": {},
   "outputs": [],
   "source": [
    "# model_label = 'code151davbflag'\n",
    "# from dataloaders.code15 import CODE as DS\n",
    "# from dataloaders.code15 import CODEsplit as DSsplit\n",
    "# from runners.solo import Runner\n",
    "# model = ResnetBaseline(n_classes = 1)\n",
    "# model = torch.load('output/{}/{}.pt'.format(model_label, model_label))\n",
    "\n",
    "# output_col = ['flag_1dAVb']"
   ]
  },
  {
   "cell_type": "code",
   "execution_count": 5,
   "metadata": {},
   "outputs": [],
   "source": [
    "# model_label = 'code15flag1davb'\n",
    "# from runners.multiclass import Runner\n",
    "# from dataloaders.code15 import CODE as DS\n",
    "# from dataloaders.code15 import CODEsplit as DSsplit\n",
    "# model = ResnetBaseline(n_classes = 6)\n",
    "# model = torch.load('output/{}/{}.pt'.format(model_label, model_label))\n",
    "\n",
    "# output_col = ['flag_1dAVb', 'RBBB', 'LBBB', 'SB', 'AF', 'ST']"
   ]
  },
  {
   "cell_type": "code",
   "execution_count": 6,
   "metadata": {},
   "outputs": [],
   "source": [
    "model_label = 'code15'\n",
    "from runners.multiclass import Runner\n",
    "from dataloaders.code15 import CODE as DS\n",
    "from dataloaders.code15 import CODEsplit as DSsplit\n",
    "model = ResnetBaseline(n_classes = 6)\n",
    "model = torch.load('output/{}/{}.pt'.format(model_label, model_label))\n",
    "\n",
    "output_col = ['1dAVb', 'RBBB', 'LBBB', 'SB', 'AF', 'ST']"
   ]
  },
  {
   "cell_type": "code",
   "execution_count": 7,
   "metadata": {},
   "outputs": [],
   "source": [
    "from dataloaders.codetest import CODEtest\n",
    "from utils import json_dump"
   ]
  },
  {
   "cell_type": "markdown",
   "metadata": {},
   "source": [
    "# init"
   ]
  },
  {
   "cell_type": "code",
   "execution_count": 8,
   "metadata": {},
   "outputs": [],
   "source": [
    "database = DS(metadata_path = '/home/josegfer/datasets/code/output/metadata.csv')\n",
    "\n",
    "device = torch.device('cuda' if torch.cuda.is_available() else 'cpu')"
   ]
  },
  {
   "cell_type": "code",
   "execution_count": 9,
   "metadata": {},
   "outputs": [],
   "source": [
    "runner = Runner(device = device, model = model, database = database, split = DSsplit, model_label = model_label, output_col = output_col)"
   ]
  },
  {
   "cell_type": "markdown",
   "metadata": {},
   "source": [
    "# run"
   ]
  },
  {
   "cell_type": "code",
   "execution_count": 10,
   "metadata": {},
   "outputs": [],
   "source": [
    "tst_ds = CODEtest()\n",
    "val_dl = torch.utils.data.DataLoader(runner.val_ds, batch_size = BATCH_SIZE, \n",
    "                                     shuffle = False, num_workers = NUM_WORKERS)\n",
    "tst_dl = torch.utils.data.DataLoader(tst_ds, batch_size = BATCH_SIZE, \n",
    "                                     shuffle = False, num_workers = NUM_WORKERS)"
   ]
  },
  {
   "cell_type": "code",
   "execution_count": 11,
   "metadata": {},
   "outputs": [
    {
     "name": "stderr",
     "output_type": "stream",
     "text": [
      "100%|██████████| 97/97 [00:11<00:00,  8.68it/s]\n",
      "100%|██████████| 7/7 [00:00<00:00, 10.07it/s]\n"
     ]
    }
   ],
   "source": [
    "best_f1s, best_thresholds = runner._synthesis(val_dl, best_thresholds = None)\n",
    "all_binary_results, all_true_labels, metrics_dict = runner._synthesis(tst_dl, best_thresholds)\n",
    "json_dump(metrics_dict, model_label, test = True)"
   ]
  }
 ],
 "metadata": {
  "kernelspec": {
   "display_name": "clip",
   "language": "python",
   "name": "python3"
  },
  "language_info": {
   "codemirror_mode": {
    "name": "ipython",
    "version": 3
   },
   "file_extension": ".py",
   "mimetype": "text/x-python",
   "name": "python",
   "nbconvert_exporter": "python",
   "pygments_lexer": "ipython3",
   "version": "3.8.8"
  }
 },
 "nbformat": 4,
 "nbformat_minor": 2
}
