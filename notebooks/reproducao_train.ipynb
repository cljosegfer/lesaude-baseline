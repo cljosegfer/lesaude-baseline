{
 "cells": [
  {
   "cell_type": "markdown",
   "metadata": {},
   "source": [
    "# setup"
   ]
  },
  {
   "cell_type": "code",
   "execution_count": 1,
   "metadata": {},
   "outputs": [],
   "source": [
    "import os\n",
    "\n",
    "if os.getcwd().split('/')[-1] == 'notebooks':\n",
    "    os.chdir('..')"
   ]
  },
  {
   "cell_type": "code",
   "execution_count": 2,
   "metadata": {},
   "outputs": [],
   "source": [
    "import torch\n",
    "import torch.nn as nn\n",
    "\n",
    "from models.baseline import ResnetBaseline"
   ]
  },
  {
   "cell_type": "code",
   "execution_count": 3,
   "metadata": {},
   "outputs": [],
   "source": [
    "# model_label = 'code15'\n",
    "# epochs = 15\n",
    "\n",
    "# from dataloaders.code15 import CODE as DS\n",
    "# from dataloaders.code15 import CODEsplit as DSsplit\n",
    "# from runners.multiclass import Runner\n",
    "# model = ResnetBaseline(n_classes = 6)"
   ]
  },
  {
   "cell_type": "code",
   "execution_count": 4,
   "metadata": {},
   "outputs": [],
   "source": [
    "# model_label = 'code15normal'\n",
    "# epochs = 15\n",
    "\n",
    "# from dataloaders.code15 import CODE as DS\n",
    "# from dataloaders.code15 import CODEsplit as DSsplit\n",
    "# from runners.normal import Runner\n",
    "# model = ResnetBaseline(n_classes = 1)"
   ]
  },
  {
   "cell_type": "code",
   "execution_count": 5,
   "metadata": {},
   "outputs": [],
   "source": [
    "# model_label = 'code15flag1davb'\n",
    "# epochs = 10\n",
    "# from runners.multiclass import Runner\n",
    "# from dataloaders.code15 import CODE as DS\n",
    "# from dataloaders.code15 import CODEsplit as DSsplit\n",
    "# model = ResnetBaseline(n_classes = 6)"
   ]
  },
  {
   "cell_type": "code",
   "execution_count": 6,
   "metadata": {},
   "outputs": [],
   "source": [
    "# model_label = 'code15flag1davb'\n",
    "# epochs = 10\n",
    "# from runners.multiclass import Runner\n",
    "# from dataloaders.code15 import CODE as DS\n",
    "# from dataloaders.code15 import CODEsplit as DSsplit\n",
    "# model = ResnetBaseline(n_classes = 6)"
   ]
  },
  {
   "cell_type": "code",
   "execution_count": 7,
   "metadata": {},
   "outputs": [],
   "source": [
    "model_label = 'code15flagnormal'\n",
    "epochs = 1\n",
    "from runners.normal import Runner\n",
    "from dataloaders.code15 import CODE as DS\n",
    "from dataloaders.code15 import CODEsplit as DSsplit\n",
    "model = ResnetBaseline(n_classes = 1)"
   ]
  },
  {
   "cell_type": "markdown",
   "metadata": {},
   "source": [
    "# init"
   ]
  },
  {
   "cell_type": "code",
   "execution_count": 8,
   "metadata": {},
   "outputs": [],
   "source": [
    "# database = DS(metadata_path = '/home/josegfer/datasets/code/output/metadata_1davb.csv')\n",
    "database = DS(metadata_path = '/home/josegfer/datasets/code/output/metadata_normal.csv')\n",
    "model = torch.load('output/{}/{}.pt'.format(model_label, model_label))\n",
    "\n",
    "device = torch.device('cuda' if torch.cuda.is_available() else 'cpu')"
   ]
  },
  {
   "cell_type": "code",
   "execution_count": 10,
   "metadata": {},
   "outputs": [],
   "source": [
    "runner = Runner(device = device, model = model, database = database, split = DSsplit, model_label = model_label)"
   ]
  },
  {
   "cell_type": "markdown",
   "metadata": {},
   "source": [
    "# run"
   ]
  },
  {
   "cell_type": "code",
   "execution_count": 63,
   "metadata": {},
   "outputs": [
    {
     "name": "stderr",
     "output_type": "stream",
     "text": [
      "  0%|          | 0/2512 [00:00<?, ?it/s]"
     ]
    },
    {
     "name": "stdout",
     "output_type": "stream",
     "text": [
      "-- epoch 0\n"
     ]
    },
    {
     "name": "stderr",
     "output_type": "stream",
     "text": [
      "100%|██████████| 2512/2512 [52:58<00:00,  1.27s/it] \n",
      "100%|██████████| 97/97 [01:16<00:00,  1.27it/s]\n"
     ]
    },
    {
     "name": "stdout",
     "output_type": "stream",
     "text": [
      "[[0.4985295777582818, 0.47676371360562514]]\n",
      "new checkpoint with val loss: 0.47676371360562514\n",
      "exporting partial model at epoch 0\n"
     ]
    }
   ],
   "source": [
    "runner.train(epochs)"
   ]
  },
  {
   "cell_type": "code",
   "execution_count": 11,
   "metadata": {},
   "outputs": [
    {
     "name": "stderr",
     "output_type": "stream",
     "text": [
      "100%|██████████| 97/97 [00:28<00:00,  3.41it/s]\n",
      "100%|██████████| 94/94 [01:14<00:00,  1.27it/s]\n"
     ]
    },
    {
     "name": "stdout",
     "output_type": "stream",
     "text": [
      "exporting last model\n"
     ]
    }
   ],
   "source": [
    "runner.eval()"
   ]
  },
  {
   "cell_type": "markdown",
   "metadata": {},
   "source": [
    "# test"
   ]
  },
  {
   "cell_type": "code",
   "execution_count": 12,
   "metadata": {},
   "outputs": [],
   "source": [
    "import pandas as pd\n",
    "import h5py\n",
    "import numpy as np\n",
    "\n",
    "from torch.utils.data import Dataset\n",
    "\n",
    "class CODEtest(Dataset):\n",
    "    def __init__(self, hdf5_path = '/home/josegfer/datasets/code/data/codetest/data/ecg_tracings.hdf5', \n",
    "                 metadata_path = '/home/josegfer/datasets/code/data/codetest/data/annotations/gold_standard.csv',\n",
    "                 tracing_col = 'tracings', output_col = ['1dAVb', 'RBBB', 'LBBB', 'SB', 'AF', 'ST']):\n",
    "        self.hdf5_file = h5py.File(hdf5_path, 'r')\n",
    "        self.metadata = pd.read_csv(metadata_path)\n",
    "\n",
    "        self.tracing_col = tracing_col\n",
    "        self.output_col = output_col\n",
    "    \n",
    "    def __len__(self):\n",
    "        return len(self.metadata)\n",
    "    \n",
    "    def __getitem__(self, idx):\n",
    "        return {'x': self.hdf5_file[self.tracing_col][idx],\n",
    "                'y': ~np.sum(self.metadata[self.output_col].loc[idx].values, dtype = bool).reshape(-1),}"
   ]
  },
  {
   "cell_type": "code",
   "execution_count": 13,
   "metadata": {},
   "outputs": [],
   "source": [
    "from utils import json_dump\n",
    "from hparams import BATCH_SIZE, NUM_WORKERS"
   ]
  },
  {
   "cell_type": "code",
   "execution_count": 14,
   "metadata": {},
   "outputs": [],
   "source": [
    "tst_ds = CODEtest()\n",
    "val_dl = torch.utils.data.DataLoader(runner.val_ds, batch_size = BATCH_SIZE, \n",
    "                                     shuffle = False, num_workers = NUM_WORKERS)\n",
    "tst_dl = torch.utils.data.DataLoader(tst_ds, batch_size = BATCH_SIZE, \n",
    "                                     shuffle = False, num_workers = NUM_WORKERS)"
   ]
  },
  {
   "cell_type": "code",
   "execution_count": 15,
   "metadata": {},
   "outputs": [
    {
     "name": "stderr",
     "output_type": "stream",
     "text": [
      "100%|██████████| 97/97 [00:50<00:00,  1.92it/s]\n",
      "100%|██████████| 7/7 [00:02<00:00,  2.34it/s]\n"
     ]
    }
   ],
   "source": [
    "best_f1s, best_thresholds = runner._synthesis(val_dl, best_thresholds = None)\n",
    "all_binary_results, all_true_labels, metrics_dict = runner._synthesis(tst_dl, best_thresholds)\n",
    "json_dump(metrics_dict, model_label, test = True)"
   ]
  },
  {
   "cell_type": "code",
   "execution_count": null,
   "metadata": {},
   "outputs": [],
   "source": []
  }
 ],
 "metadata": {
  "kernelspec": {
   "display_name": "clip",
   "language": "python",
   "name": "python3"
  },
  "language_info": {
   "codemirror_mode": {
    "name": "ipython",
    "version": 3
   },
   "file_extension": ".py",
   "mimetype": "text/x-python",
   "name": "python",
   "nbconvert_exporter": "python",
   "pygments_lexer": "ipython3",
   "version": "3.8.8"
  }
 },
 "nbformat": 4,
 "nbformat_minor": 2
}
